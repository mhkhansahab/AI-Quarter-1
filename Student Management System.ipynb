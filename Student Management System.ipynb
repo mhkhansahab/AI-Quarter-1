{
 "cells": [
  {
   "cell_type": "code",
   "execution_count": 1,
   "metadata": {},
   "outputs": [
    {
     "name": "stdout",
     "output_type": "stream",
     "text": [
      "\t\t\t*****Welcome To Student Management System*****\n",
      "\n",
      "\n",
      "\t\t\t\t\t\tMENU \n",
      "\n",
      "\t\t\t\t1 - Add Record\n",
      "\t\t\t\t2 - Update Record\n",
      "\t\t\t\t3 - Delete Record\n",
      "\t\t\t\t4 - Search\n"
     ]
    }
   ],
   "source": [
    "print(\"\\t\\t\\t*****Welcome To Student Management System*****\")\n",
    "print(\"\\n\\n\\t\\t\\t\\t\\t\\tMENU \")\n",
    "print(\"\\n\\t\\t\\t\\t1 - Add Record\")\n",
    "print(\"\\t\\t\\t\\t2 - Update Record\")\n",
    "print(\"\\t\\t\\t\\t3 - Delete Record\")\n",
    "print(\"\\t\\t\\t\\t4 - Search\")"
   ]
  },
  {
   "cell_type": "code",
   "execution_count": 15,
   "metadata": {},
   "outputs": [],
   "source": [
    "no_of_courses = [None] * 5\n",
    "information = []\n",
    "sample = {\"name\": \"\", \"father_name\": \"\", \"class\": \"\", \"roll_no\": \"\", \"courses\": no_of_courses ,}"
   ]
  },
  {
   "cell_type": "code",
   "execution_count": 42,
   "metadata": {},
   "outputs": [
    {
     "name": "stdout",
     "output_type": "stream",
     "text": [
      "Choose an option 1 - 4  : 3\n"
     ]
    }
   ],
   "source": [
    "user_input = int(input(\"Choose an option 1 - 4  : \"))"
   ]
  },
  {
   "cell_type": "code",
   "execution_count": 29,
   "metadata": {},
   "outputs": [
    {
     "name": "stdout",
     "output_type": "stream",
     "text": [
      "Your Student ID is : 3\n",
      "Enter Name: Umer\n",
      "Enter Father Name: Kashif\n",
      "Enter Class: 2\n",
      "Enter Roll Number: 56\n",
      "Enter Course: maths\n",
      "Enter Course: phy\n",
      "Enter Course: maths\n",
      "You have already mentioned this course\n",
      "Enter Course: geo\n",
      "Enter Course: pst\n",
      "Enter Course: urdr\n"
     ]
    }
   ],
   "source": [
    "if user_input == 1:\n",
    "    information.append(sample.copy())\n",
    "    z = len(information) - 1\n",
    "    i = information[z]\n",
    "    print(\"Your Student ID is : {}\".format(z))\n",
    "    i[\"name\"] = input(\"Enter Name: \")\n",
    "    i[\"father_name\"] = input(\"Enter Father Name: \")\n",
    "    i[\"class\"] = input(\"Enter Class: \")\n",
    "    i[\"roll_no\"] = input(\"Enter Roll Number: \")\n",
    "    j = 0\n",
    "    \n",
    "    while j < 5:\n",
    "        course = input(\"Enter Course: \")\n",
    "        if course in no_of_courses:\n",
    "            print(\"You have already mentioned this course\")\n",
    "            j -= 1\n",
    "        else:\n",
    "            no_of_courses[j] = course\n",
    "        j += 1\n",
    "    \n",
    "    i[\"courses\"] = no_of_courses"
   ]
  },
  {
   "cell_type": "code",
   "execution_count": 38,
   "metadata": {},
   "outputs": [
    {
     "name": "stdout",
     "output_type": "stream",
     "text": [
      "Enter Student ID2\n",
      "Enter Name: Ibrahim\n",
      "Enter Father Name: Ali\n",
      "Enter Class: 5\n",
      "You cannot update your Roll Number and Courses.\n"
     ]
    }
   ],
   "source": [
    "if user_input == 2:\n",
    "    id = int(input(\"Enter Student ID: \"))\n",
    "    i = information[id]\n",
    "    i[\"name\"] = input(\"Enter Name: \")\n",
    "    i[\"father_name\"] = input(\"Enter Father Name: \")\n",
    "    i[\"class\"] = input(\"Enter Class: \")\n",
    "    print(\"You cannot update your Roll Number and Courses.\")"
   ]
  },
  {
   "cell_type": "code",
   "execution_count": 45,
   "metadata": {},
   "outputs": [
    {
     "name": "stdout",
     "output_type": "stream",
     "text": [
      "Enter Student ID: 0\n"
     ]
    }
   ],
   "source": [
    "if user_input == 3:\n",
    "    id = int(input(\"Enter Student ID: \"))\n",
    "    information[id] = sample"
   ]
  },
  {
   "cell_type": "code",
   "execution_count": 40,
   "metadata": {},
   "outputs": [
    {
     "name": "stdout",
     "output_type": "stream",
     "text": [
      "Enter Student ID: 2\n",
      "Name: Ibrahim\n",
      "Father Name: Ali\n",
      "Roll Number: 34\n",
      "Class: 5\n",
      "Courses: \n",
      "maths\n",
      "phy\n",
      "geo\n",
      "pst\n",
      "urdr\n"
     ]
    }
   ],
   "source": [
    "if user_input == 4:\n",
    "    id = int(input(\"Enter Student ID: \"))\n",
    "    i = information[id]\n",
    "    name = i[\"name\"]\n",
    "    f_name = i[\"father_name\"]\n",
    "    standard = i[\"class\"]\n",
    "    roll_no = i[\"roll_no\"]\n",
    "    courses = i[\"courses\"]\n",
    "    print(\"Name: {0}\".format(name))\n",
    "    print(\"Father Name: {0}\".format(f_name))\n",
    "    print(\"Roll Number: {0}\".format(roll_no))\n",
    "    print(\"Class: {0}\".format(standard))\n",
    "    print(\"Courses: \")\n",
    "    for j in courses:\n",
    "        print(j)"
   ]
  },
  {
   "cell_type": "code",
   "execution_count": 46,
   "metadata": {},
   "outputs": [
    {
     "name": "stdout",
     "output_type": "stream",
     "text": [
      "[{'name': '', 'father_name': '', 'class': '', 'roll_no': '', 'courses': ['maths', 'phy', 'geo', 'pst', 'urdr']}, {'name': 'Ibrahim', 'father_name': 'Ali', 'class': '5', 'roll_no': '34', 'courses': ['maths', 'phy', 'geo', 'pst', 'urdr']}, {'name': 'Umer', 'father_name': 'Kashif', 'class': '2', 'roll_no': '56', 'courses': ['maths', 'phy', 'geo', 'pst', 'urdr']}]\n"
     ]
    }
   ],
   "source": [
    "print(information)"
   ]
  }
 ],
 "metadata": {
  "kernelspec": {
   "display_name": "Python 3",
   "language": "python",
   "name": "python3"
  },
  "language_info": {
   "codemirror_mode": {
    "name": "ipython",
    "version": 3
   },
   "file_extension": ".py",
   "mimetype": "text/x-python",
   "name": "python",
   "nbconvert_exporter": "python",
   "pygments_lexer": "ipython3",
   "version": "3.7.3"
  }
 },
 "nbformat": 4,
 "nbformat_minor": 2
}
