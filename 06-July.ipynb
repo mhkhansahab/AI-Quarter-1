{
 "cells": [
  {
   "cell_type": "code",
   "execution_count": 10,
   "metadata": {},
   "outputs": [
    {
     "name": "stdout",
     "output_type": "stream",
     "text": [
      "2016 Audi A4\n"
     ]
    }
   ],
   "source": [
    "class Car():\n",
    "    def __init__(self,make,model,year):\n",
    "        self.make = make\n",
    "        self.model = model\n",
    "        self.year = year\n",
    "        \n",
    "    def get_descriptive_name(self):\n",
    "            \n",
    "        long_name = str(self.year) + \" \" + self.make + \" \" + self.model\n",
    "        return long_name.title()\n",
    "            \n",
    "my_new_car = Car(\"audi\",\"a4\",2016)\n",
    "print(my_new_car.get_descriptive_name())"
   ]
  },
  {
   "cell_type": "code",
   "execution_count": 23,
   "metadata": {},
   "outputs": [],
   "source": [
    "class Car():\n",
    "    def __init__(self,make,model,year):\n",
    "        self.make = make\n",
    "        self.model = model\n",
    "        self.year = year\n",
    "        self.odometer_reading = 0\n",
    "        \n",
    "    def read_odometer(self):\n",
    "        current_odometer_reading = self.odometer_reading\n",
    "        return current_odometer_reading\n",
    "        \n",
    "    def get_descriptive_name(self):\n",
    "            \n",
    "        long_name = str(self.year) + \" \" + self.make + \" \" + self.model\n",
    "        return long_name.title()\n",
    "    \n",
    "    def update_odometer(self,mileage):\n",
    "        self.odometer_reading = mileage\n",
    "        "
   ]
  },
  {
   "cell_type": "code",
   "execution_count": 24,
   "metadata": {},
   "outputs": [],
   "source": [
    "my_new_car = Car(\"audi\",\"a4\",2016)   #object created\n",
    "your_new_car = Car(\"BMW\",\"E400\",2018)"
   ]
  },
  {
   "cell_type": "code",
   "execution_count": 25,
   "metadata": {},
   "outputs": [
    {
     "name": "stdout",
     "output_type": "stream",
     "text": [
      "2016 Audi A4\n",
      "2018 Bmw E400\n"
     ]
    }
   ],
   "source": [
    "print(my_new_car.get_descriptive_name())\n",
    "print(your_new_car.get_descriptive_name())"
   ]
  },
  {
   "cell_type": "markdown",
   "metadata": {},
   "source": [
    "# Changing default attribute's value\n",
    "# 1.Changing the value directly"
   ]
  },
  {
   "cell_type": "code",
   "execution_count": 1,
   "metadata": {},
   "outputs": [
    {
     "ename": "NameError",
     "evalue": "name 'my_new_car' is not defined",
     "output_type": "error",
     "traceback": [
      "\u001b[1;31m---------------------------------------------------------------------------\u001b[0m",
      "\u001b[1;31mNameError\u001b[0m                                 Traceback (most recent call last)",
      "\u001b[1;32m<ipython-input-1-5ae390dda00b>\u001b[0m in \u001b[0;36m<module>\u001b[1;34m\u001b[0m\n\u001b[1;32m----> 1\u001b[1;33m \u001b[0mmy_new_car\u001b[0m\u001b[1;33m.\u001b[0m\u001b[0modometer_reading\u001b[0m \u001b[1;33m=\u001b[0m \u001b[1;36m50\u001b[0m\u001b[1;33m\u001b[0m\u001b[1;33m\u001b[0m\u001b[0m\n\u001b[0m\u001b[0;32m      2\u001b[0m \u001b[0mmy_new_car\u001b[0m\u001b[1;33m.\u001b[0m\u001b[0mread_odometer\u001b[0m\u001b[1;33m(\u001b[0m\u001b[1;33m)\u001b[0m\u001b[1;33m\u001b[0m\u001b[1;33m\u001b[0m\u001b[0m\n",
      "\u001b[1;31mNameError\u001b[0m: name 'my_new_car' is not defined"
     ]
    }
   ],
   "source": [
    "my_new_car.odometer_reading = 50\n",
    "my_new_car.read_odometer()"
   ]
  },
  {
   "cell_type": "code",
   "execution_count": 18,
   "metadata": {},
   "outputs": [
    {
     "data": {
      "text/plain": [
       "0"
      ]
     },
     "execution_count": 18,
     "metadata": {},
     "output_type": "execute_result"
    }
   ],
   "source": [
    "your_new_car.read_odometer()"
   ]
  },
  {
   "cell_type": "code",
   "execution_count": 21,
   "metadata": {},
   "outputs": [
    {
     "data": {
      "text/plain": [
       "100"
      ]
     },
     "execution_count": 21,
     "metadata": {},
     "output_type": "execute_result"
    }
   ],
   "source": [
    "your_new_car.odometer_reading = 100\n",
    "your_new_car.read_odometer()"
   ]
  },
  {
   "cell_type": "markdown",
   "metadata": {},
   "source": [
    "#  2.Changing the value using function"
   ]
  },
  {
   "cell_type": "code",
   "execution_count": 29,
   "metadata": {},
   "outputs": [
    {
     "data": {
      "text/plain": [
       "500"
      ]
     },
     "execution_count": 29,
     "metadata": {},
     "output_type": "execute_result"
    }
   ],
   "source": [
    "my_new_car.update_odometer(500)\n",
    "my_new_car.read_odometer()"
   ]
  },
  {
   "cell_type": "code",
   "execution_count": 28,
   "metadata": {},
   "outputs": [
    {
     "data": {
      "text/plain": [
       "100"
      ]
     },
     "execution_count": 28,
     "metadata": {},
     "output_type": "execute_result"
    }
   ],
   "source": [
    "your_new_car.update_odometer(100)\n",
    "your_new_car.read_odometer()"
   ]
  },
  {
   "cell_type": "code",
   "execution_count": 2,
   "metadata": {},
   "outputs": [],
   "source": [
    "class Restaurant():\n",
    "    \n",
    "    def __init__(self,restaurant_name,cuisine_type):\n",
    "        self.restaurant_name = restaurant_name\n",
    "        self.cuisine_type = cuisine_type\n",
    "        \n",
    "    def describe_restaurant(self):\n",
    "        print(\"Restaurant's name: \",self.restaurant_name)\n",
    "        print(\"Cuisine you ordered: \",self.cuisine_type)\n",
    "        \n",
    "    def open_restaurant(self):\n",
    "        self.open = \"Restaurant is Open\"\n",
    "        print(self.open)"
   ]
  },
  {
   "cell_type": "code",
   "execution_count": 6,
   "metadata": {},
   "outputs": [
    {
     "name": "stdout",
     "output_type": "stream",
     "text": [
      "Restaurant's name:  Quetta Musaafir Hotel\n",
      "Cuisine you ordered:  Chai\n",
      "None\n",
      "Restaurant is Open\n",
      "None\n"
     ]
    }
   ],
   "source": [
    "call = Restaurant(\"Quetta Musaafir Hotel\",\"Chai\")\n",
    "print(call.describe_restaurant())\n",
    "print(call.open_restaurant())"
   ]
  },
  {
   "cell_type": "code",
   "execution_count": 7,
   "metadata": {},
   "outputs": [],
   "source": [
    "class Restaurant():\n",
    "    \n",
    "    def __init__(self,restaurant_name,cuisine_type):\n",
    "        self.restaurant_name = restaurant_name\n",
    "        self.cuisine_type = cuisine_type\n",
    "        set_number_served = 0\n",
    "   \n",
    "    def set_number_served(self,numbers):\n",
    "        self.set_number_served = numbers\n",
    "    \n",
    "    def increment_num_served(self,numbers):\n",
    "        self.set_number_served += numbers\n",
    "    \n",
    "    def people_serv(self):\n",
    "        print(f\"Total served customers are {self.set_number_served}\")\n",
    "    \n",
    "    def describe_restaurant(self):\n",
    "        print(\"Restaurant's name: \",self.restaurant_name)\n",
    "        print(\"Cuisine you ordered: \",self.cuisine_type)\n",
    "        \n",
    "    def open_restaurant(self):\n",
    "        self.open = \"Restaurant is Open\"\n",
    "        print(self.open)    \n",
    "    "
   ]
  },
  {
   "cell_type": "code",
   "execution_count": 17,
   "metadata": {},
   "outputs": [
    {
     "name": "stdout",
     "output_type": "stream",
     "text": [
      "Total served customers are 15\n",
      "Restaurant's name:  Quetta Musaafir Hotel\n",
      "Cuisine you ordered:  Chai\n",
      "Restaurant is Open\n"
     ]
    }
   ],
   "source": [
    "call = Restaurant(\"Quetta Musaafir Hotel\",\"Chai\")\n",
    "call.set_number_served(15)\n",
    "call.people_serv()\n",
    "call.describe_restaurant()\n",
    "call.open_restaurant()"
   ]
  },
  {
   "cell_type": "code",
   "execution_count": 18,
   "metadata": {},
   "outputs": [],
   "source": [
    "call.increment_num_served(10)"
   ]
  },
  {
   "cell_type": "code",
   "execution_count": 19,
   "metadata": {},
   "outputs": [
    {
     "name": "stdout",
     "output_type": "stream",
     "text": [
      "Total served customers are 25\n"
     ]
    }
   ],
   "source": [
    "call.people_serv()"
   ]
  },
  {
   "cell_type": "code",
   "execution_count": 42,
   "metadata": {},
   "outputs": [],
   "source": [
    "#inheritance"
   ]
  },
  {
   "cell_type": "code",
   "execution_count": 48,
   "metadata": {},
   "outputs": [],
   "source": [
    "class Car():\n",
    "    def __init__(self,make,model,year):\n",
    "        self.make = make\n",
    "        self.model = model\n",
    "        self.year = year\n",
    "        self.odometer_reading = 0\n",
    "        \n",
    "    def read_odometer(self):\n",
    "        current_odometer_reading = self.odometer_reading\n",
    "        return current_odometer_reading\n",
    "        \n",
    "    def get_descriptive_name(self):\n",
    "            \n",
    "        long_name = str(self.year) + \" \" + self.make + \" \" + self.model\n",
    "        return long_name.title()\n",
    "    \n",
    "    def update_odometer(self,mileage):\n",
    "        self.odometer_reading = mileage\n",
    "        "
   ]
  },
  {
   "cell_type": "code",
   "execution_count": 57,
   "metadata": {},
   "outputs": [],
   "source": [
    "class Battery():\n",
    "    def __init__(self, manufacturer, size, amp):\n",
    "        self.manufacturer = manufacturer\n",
    "        self.size = size\n",
    "        self.amp = amp\n",
    "        \n",
    "    def get_battery_size(self):\n",
    "        print(f\"The battery size of electric car is {self.size}\")\n",
    "    def set_battery_size(self, new_size):\n",
    "        self.size = new_size"
   ]
  },
  {
   "cell_type": "code",
   "execution_count": 58,
   "metadata": {},
   "outputs": [],
   "source": [
    "class Ecar_Engine():\n",
    "    def __init__(self, power, chamber_size):\n",
    "        self.power = power\n",
    "        self.chamber_size = chamber_size\n",
    "    \n",
    "    def get_power(self):\n",
    "        print(f\"The engine power is {self.power} HP\")\n",
    "    def get_chamber_size(self):\n",
    "        print(f\"The chamber size is {self.chamber_size} metre-cube\")"
   ]
  },
  {
   "cell_type": "code",
   "execution_count": 59,
   "metadata": {},
   "outputs": [],
   "source": [
    "class ElectricCar(Car):\n",
    "    def __init__(self, make, model, year):\n",
    "        super().__init__(make, model, year)\n",
    "        self.battery = Battery(\"AGS\", 100, 200)\n",
    "        self.engine = Ecar_Engine(10, 45)"
   ]
  },
  {
   "cell_type": "code",
   "execution_count": 60,
   "metadata": {},
   "outputs": [],
   "source": [
    "eCar = ElectricCar(\"er\",\"rt\",45)"
   ]
  },
  {
   "cell_type": "code",
   "execution_count": 61,
   "metadata": {},
   "outputs": [
    {
     "name": "stdout",
     "output_type": "stream",
     "text": [
      "45 Er Rt\n"
     ]
    }
   ],
   "source": [
    "print(eCar.get_descriptive_name())"
   ]
  },
  {
   "cell_type": "code",
   "execution_count": 62,
   "metadata": {},
   "outputs": [
    {
     "name": "stdout",
     "output_type": "stream",
     "text": [
      "The battery size of electric car is 100\n"
     ]
    }
   ],
   "source": [
    "eCar.battery.get_battery_size()"
   ]
  },
  {
   "cell_type": "code",
   "execution_count": 64,
   "metadata": {},
   "outputs": [],
   "source": [
    "eCar.battery.set_battery_size(34)"
   ]
  },
  {
   "cell_type": "code",
   "execution_count": 66,
   "metadata": {},
   "outputs": [
    {
     "name": "stdout",
     "output_type": "stream",
     "text": [
      "The battery size of electric car is 34\n"
     ]
    }
   ],
   "source": [
    "eCar.battery.get_battery_size()"
   ]
  },
  {
   "cell_type": "code",
   "execution_count": 69,
   "metadata": {},
   "outputs": [
    {
     "name": "stdout",
     "output_type": "stream",
     "text": [
      "The engine power is 10 HP\n",
      "The chamber size is 45 metre-cube\n"
     ]
    }
   ],
   "source": [
    "eCar.engine.get_power()\n",
    "eCar.engine.get_chamber_size()"
   ]
  },
  {
   "cell_type": "code",
   "execution_count": 78,
   "metadata": {},
   "outputs": [
    {
     "name": "stdout",
     "output_type": "stream",
     "text": [
      "<__main__.Ecar_Engine object at 0x000001F478880A90>\n"
     ]
    }
   ],
   "source": [
    "print(eCar.engine)"
   ]
  },
  {
   "cell_type": "markdown",
   "metadata": {},
   "source": [
    "# Sat 13th July Data Files"
   ]
  },
  {
   "cell_type": "code",
   "execution_count": 1,
   "metadata": {},
   "outputs": [],
   "source": [
    "#Write\n",
    "with open(\"SaylaniGulshan.txt\", \"w\") as file:\n",
    "    file.write(\"Han bhai aap ne chai pee????\")"
   ]
  },
  {
   "cell_type": "code",
   "execution_count": 2,
   "metadata": {},
   "outputs": [
    {
     "name": "stdout",
     "output_type": "stream",
     "text": [
      "Han bhai aap ne chai pee????\n"
     ]
    }
   ],
   "source": [
    "#Read\n",
    "with open(\"SaylaniGulshan.txt\", \"r\") as file:\n",
    "    print(file.read())"
   ]
  },
  {
   "cell_type": "code",
   "execution_count": 3,
   "metadata": {},
   "outputs": [
    {
     "name": "stdout",
     "output_type": "stream",
     "text": [
      "Han bhai aap ne chai pee????\n"
     ]
    }
   ],
   "source": [
    "#Read\n",
    "with open(\"SaylaniGulshan.txt\", \"r\") as file:\n",
    "    content = file.read()\n",
    "    print(content)"
   ]
  },
  {
   "cell_type": "code",
   "execution_count": 4,
   "metadata": {},
   "outputs": [],
   "source": [
    "# Missing second argument ? it will read by default\n",
    "with open (\"SaylaniGulshan.txt\") as file:\n",
    "    t = file.read()"
   ]
  },
  {
   "cell_type": "code",
   "execution_count": 5,
   "metadata": {},
   "outputs": [
    {
     "data": {
      "text/plain": [
       "'Han bhai aap ne chai pee????'"
      ]
     },
     "execution_count": 5,
     "metadata": {},
     "output_type": "execute_result"
    }
   ],
   "source": [
    "t"
   ]
  },
  {
   "cell_type": "code",
   "execution_count": 7,
   "metadata": {},
   "outputs": [],
   "source": [
    "#Append\n",
    "with open (\"SaylaniGulshan.txt\", \"a\") as file:\n",
    "    file.write(\"kitna cup pee\")    "
   ]
  },
  {
   "cell_type": "code",
   "execution_count": 2,
   "metadata": {},
   "outputs": [
    {
     "name": "stdout",
     "output_type": "stream",
     "text": [
      "Enter your Name: Hamza\n",
      "Enter your Age: 12\n",
      "Enter your CNIC Number: 3454475\n",
      "Enter your Name: Ali\n",
      "Enter your Age: 234\n",
      "Enter your CNIC Number: 54765i843\n",
      "Enter your Name: Kahsif\n",
      "Enter your Age: 23\n",
      "Enter your CNIC Number: 564679\n",
      "Enter your Name: Sufi\n",
      "Enter your Age: 21\n",
      "Enter your CNIC Number: 34566787\n",
      "Enter your Name: Mani\n",
      "Enter your Age: 23\n",
      "Enter your CNIC Number: 56766898\n",
      "Enter your Name: umer\n",
      "Enter your Age: 23\n",
      "Enter your CNIC Number: 346778\n",
      "Enter your Name: Mohsin\n",
      "Enter your Age: 76\n",
      "Enter your CNIC Number: 2345678\n",
      "Enter your Name: Hassan\n",
      "Enter your Age: 77\n",
      "Enter your CNIC Number: 345678\n",
      "Enter your Name: Ijlal\n",
      "Enter your Age: 23\n",
      "Enter your CNIC Number: 45678\n",
      "Enter your Name: Kisha\n",
      "Enter your Age: 23\n",
      "Enter your CNIC Number: 345678\n"
     ]
    }
   ],
   "source": [
    "with open (\"User_Information.txt\", \"w\") as file:\n",
    "    a = 0\n",
    "    file.write(\"NAME \\t AGE \\t CNIC\")\n",
    "    while a < 10:\n",
    "        a += 1\n",
    "        file.write(\"\\t\")\n",
    "        file.write(input(\"Enter your Name: \"))\n",
    "        file.write(\"\\t\")\n",
    "        file.write(input(\"Enter your Age: \"))\n",
    "        file.write(\"\\t\")\n",
    "        file.write(input(\"Enter your CNIC Number: \"))\n",
    "        file.write(\"\\n\\n\")"
   ]
  },
  {
   "cell_type": "code",
   "execution_count": 3,
   "metadata": {},
   "outputs": [
    {
     "name": "stdout",
     "output_type": "stream",
     "text": [
      "NAME \t AGE \t CNICHamza\t12\t3454475\n",
      "\n",
      "Ali\t234\t54765i843\n",
      "\n",
      "Kahsif\t23\t564679\n",
      "\n",
      "Sufi\t21\t34566787\n",
      "\n",
      "Mani\t23\t56766898\n",
      "\n",
      "umer\t23\t346778\n",
      "\n",
      "Mohsin\t76\t2345678\n",
      "\n",
      "Hassan\t77\t345678\n",
      "\n",
      "Ijlal\t23\t45678\n",
      "\n",
      "Kisha\t23\t345678\n",
      "\n",
      "\n"
     ]
    }
   ],
   "source": [
    "with open (\"User_Information.txt\", \"r\") as file:\n",
    "    print(file.read())"
   ]
  },
  {
   "cell_type": "code",
   "execution_count": null,
   "metadata": {},
   "outputs": [],
   "source": []
  },
  {
   "cell_type": "code",
   "execution_count": null,
   "metadata": {},
   "outputs": [],
   "source": []
  }
 ],
 "metadata": {
  "kernelspec": {
   "display_name": "Python 3",
   "language": "python",
   "name": "python3"
  },
  "language_info": {
   "codemirror_mode": {
    "name": "ipython",
    "version": 3
   },
   "file_extension": ".py",
   "mimetype": "text/x-python",
   "name": "python",
   "nbconvert_exporter": "python",
   "pygments_lexer": "ipython3",
   "version": "3.7.3"
  }
 },
 "nbformat": 4,
 "nbformat_minor": 2
}
