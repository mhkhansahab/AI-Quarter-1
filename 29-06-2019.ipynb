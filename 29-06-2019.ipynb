{
 "cells": [
  {
   "cell_type": "markdown",
   "metadata": {},
   "source": [
    "# Arguments greater than parameters\n"
   ]
  },
  {
   "cell_type": "code",
   "execution_count": 1,
   "metadata": {},
   "outputs": [],
   "source": [
    "def cars(model,make,*specs):\n",
    "    print(model,make)\n",
    "    print(specs)"
   ]
  },
  {
   "cell_type": "code",
   "execution_count": 3,
   "metadata": {},
   "outputs": [
    {
     "name": "stdout",
     "output_type": "stream",
     "text": [
      "2010 toyota corolla\n",
      "('alloy rim', 'tape', 'power windows')\n"
     ]
    }
   ],
   "source": [
    "cars(2010,\"toyota corolla\",\"alloy rim\",\"tape\",\"power windows\")\n"
   ]
  },
  {
   "cell_type": "code",
   "execution_count": 5,
   "metadata": {},
   "outputs": [
    {
     "name": "stdout",
     "output_type": "stream",
     "text": [
      "2010 toyota corolla\n",
      "('automatic',)\n"
     ]
    }
   ],
   "source": [
    "cars(2010,\"toyota corolla\",\"automatic\")"
   ]
  },
  {
   "cell_type": "code",
   "execution_count": 6,
   "metadata": {},
   "outputs": [
    {
     "name": "stdout",
     "output_type": "stream",
     "text": [
      "2015 honda civic\n",
      "(['alloy rim', 'tape', 'power windows'],)\n"
     ]
    }
   ],
   "source": [
    "cars(2015,\"honda civic\",[\"alloy rim\",\"tape\",\"power windows\"])"
   ]
  },
  {
   "cell_type": "code",
   "execution_count": 101,
   "metadata": {},
   "outputs": [],
   "source": [
    "def pizza(size , flavor ,*toppings):\n",
    "    print(\"Size of Pizza is: \"+size)\n",
    "    print(\"Flavor of Pizza is: \"+flavor)\n",
    "    print(\"Toppings are: \")\n",
    "    for topping in toppings:\n",
    "        print(topping)\n",
    "    \n",
    "    "
   ]
  },
  {
   "cell_type": "code",
   "execution_count": 20,
   "metadata": {},
   "outputs": [
    {
     "name": "stdout",
     "output_type": "stream",
     "text": [
      "Size of Pizza is: 21\n",
      "Flavor of Pizza is: Fajita\n",
      "Toppings are: \n",
      "Olives\n",
      "jalapeno\n"
     ]
    }
   ],
   "source": [
    "pizza(\"21\",\"Fajita\",'Olives','jalapeno')"
   ]
  },
  {
   "cell_type": "code",
   "execution_count": 21,
   "metadata": {},
   "outputs": [],
   "source": [
    "def person(fname,lname,**about):\n",
    "    print(fname,lname)\n",
    "    print(about)"
   ]
  },
  {
   "cell_type": "code",
   "execution_count": 22,
   "metadata": {},
   "outputs": [
    {
     "name": "stdout",
     "output_type": "stream",
     "text": [
      "Hamza Khan\n",
      "{'like': 'football'}\n"
     ]
    }
   ],
   "source": [
    "person(\"Hamza\",\"Khan\",like = \"football\")"
   ]
  },
  {
   "cell_type": "code",
   "execution_count": 28,
   "metadata": {},
   "outputs": [
    {
     "name": "stdout",
     "output_type": "stream",
     "text": [
      "Hamza Khan\n",
      "{'age': 30, 'no': [234, 432], 'nationality': 'PAkistani'}\n"
     ]
    }
   ],
   "source": [
    "person(\"Hamza\", \"Khan\",age = 30, no = [234,432],nationality=\"PAkistani\")"
   ]
  },
  {
   "cell_type": "code",
   "execution_count": 30,
   "metadata": {},
   "outputs": [
    {
     "name": "stdout",
     "output_type": "stream",
     "text": [
      "Hamza Khan\n",
      "{'age': 30, 'no': {432, 234}, 'nationality': 'PAkistani'}\n"
     ]
    }
   ],
   "source": [
    "person(\"Hamza\", \"Khan\",age = 30, no = {234,432},nationality=\"PAkistani\")"
   ]
  },
  {
   "cell_type": "markdown",
   "metadata": {},
   "source": [
    "# Using function as a variable"
   ]
  },
  {
   "cell_type": "code",
   "execution_count": 39,
   "metadata": {},
   "outputs": [],
   "source": [
    "def add1():\n",
    "    x = 3 + 5\n",
    "    return x"
   ]
  },
  {
   "cell_type": "code",
   "execution_count": 40,
   "metadata": {},
   "outputs": [],
   "source": [
    "def add2():\n",
    "    y = 23 + 9\n",
    "    return y"
   ]
  },
  {
   "cell_type": "code",
   "execution_count": 41,
   "metadata": {},
   "outputs": [],
   "source": [
    "answer1 = add1()+add2()\n",
    "answer2 = add1()-add2()\n",
    "answer3 = add1()*add2()\n",
    "answer4 = add1()/add2()"
   ]
  },
  {
   "cell_type": "code",
   "execution_count": 42,
   "metadata": {},
   "outputs": [
    {
     "name": "stdout",
     "output_type": "stream",
     "text": [
      "40\n",
      "-24\n",
      "256\n",
      "0.25\n"
     ]
    }
   ],
   "source": [
    "print(answer1)\n",
    "print(answer2)\n",
    "print(answer3)\n",
    "print(answer4)"
   ]
  },
  {
   "cell_type": "code",
   "execution_count": 73,
   "metadata": {},
   "outputs": [],
   "source": [
    "def salary(basic,commision):\n",
    "    total = basic + commision\n",
    "    print(f\"Your salary is: {total}\")"
   ]
  },
  {
   "cell_type": "code",
   "execution_count": 74,
   "metadata": {},
   "outputs": [],
   "source": [
    "def commisioncalculator(sales):\n",
    "    if sales >= 100000:\n",
    "        per = 30\n",
    "    elif sales >= 50000:\n",
    "        per = 20\n",
    "    elif sales >= 30000:\n",
    "        per = 10\n",
    "    elif sales >= 10000:\n",
    "        per = 5\n",
    "    else:\n",
    "        per = 0\n",
    "    commision = sales/100*per\n",
    "    return commision"
   ]
  },
  {
   "cell_type": "code",
   "execution_count": 75,
   "metadata": {},
   "outputs": [
    {
     "name": "stdout",
     "output_type": "stream",
     "text": [
      "Enter your Salary: 25000\n",
      "Enter Sales: 100000\n",
      "Your salary is: 55000.0\n"
     ]
    }
   ],
   "source": [
    "basic = int(input(\"Enter your Salary: \"))\n",
    "sales = int(input(\"Enter Sales: \"))\n",
    "\n",
    "salary(basic,commisioncalculator(sales))"
   ]
  },
  {
   "cell_type": "markdown",
   "metadata": {},
   "source": [
    "# Local and Global Variables"
   ]
  },
  {
   "cell_type": "code",
   "execution_count": 95,
   "metadata": {},
   "outputs": [],
   "source": [
    "fruit = \"Apple\"\n",
    "\n",
    "def alocal():\n",
    "    global a\n",
    "    a = 100\n",
    "    global fruit\n",
    "    fruit=\"Orange\"\n",
    "    print(a)\n",
    "    print(fruit)"
   ]
  },
  {
   "cell_type": "code",
   "execution_count": 98,
   "metadata": {},
   "outputs": [
    {
     "name": "stdout",
     "output_type": "stream",
     "text": [
      "100\n",
      "Orange\n"
     ]
    },
    {
     "data": {
      "text/plain": [
       "'Orange'"
      ]
     },
     "execution_count": 98,
     "metadata": {},
     "output_type": "execute_result"
    }
   ],
   "source": [
    "alocal()\n",
    "a\n",
    "fruit"
   ]
  },
  {
   "cell_type": "code",
   "execution_count": 82,
   "metadata": {},
   "outputs": [
    {
     "ename": "NameError",
     "evalue": "name 'a' is not defined",
     "output_type": "error",
     "traceback": [
      "\u001b[1;31m---------------------------------------------------------------------------\u001b[0m",
      "\u001b[1;31mNameError\u001b[0m                                 Traceback (most recent call last)",
      "\u001b[1;32m<ipython-input-82-73dd419989db>\u001b[0m in \u001b[0;36m<module>\u001b[1;34m\u001b[0m\n\u001b[0;32m      1\u001b[0m \u001b[1;31m#Local Variable\u001b[0m\u001b[1;33m\u001b[0m\u001b[1;33m\u001b[0m\u001b[1;33m\u001b[0m\u001b[0m\n\u001b[1;32m----> 2\u001b[1;33m \u001b[0mprint\u001b[0m\u001b[1;33m(\u001b[0m\u001b[0ma\u001b[0m\u001b[1;33m)\u001b[0m\u001b[1;33m\u001b[0m\u001b[1;33m\u001b[0m\u001b[0m\n\u001b[0m",
      "\u001b[1;31mNameError\u001b[0m: name 'a' is not defined"
     ]
    }
   ],
   "source": [
    "#Local Variable\n",
    "print(a)"
   ]
  },
  {
   "cell_type": "code",
   "execution_count": 97,
   "metadata": {},
   "outputs": [
    {
     "name": "stdout",
     "output_type": "stream",
     "text": [
      "Orange\n"
     ]
    }
   ],
   "source": [
    "#Global Variable\n",
    "print(fruit)"
   ]
  },
  {
   "cell_type": "markdown",
   "metadata": {},
   "source": [
    "# While Loop\n"
   ]
  },
  {
   "cell_type": "code",
   "execution_count": 100,
   "metadata": {},
   "outputs": [
    {
     "name": "stdout",
     "output_type": "stream",
     "text": [
      "Enter name or type exit to quitashhd\n",
      "ashhd\n",
      "Enter name or type exit to quitascc\n",
      "ascc\n",
      "Enter name or type exit to quitasf\n",
      "asf\n",
      "Enter name or type exit to quitasff\n",
      "asff\n",
      "Enter name or type exit to quit\n",
      "\n",
      "Enter name or type exit to quitasff\n",
      "asff\n",
      "Enter name or type exit to quitexit\n",
      "exit\n"
     ]
    }
   ],
   "source": [
    "flag = True\n",
    "while flag:\n",
    "    name = input(\"Enter name or type exit to quit\")\n",
    "    print(name)\n",
    "    if name == \"exit\":\n",
    "        flag = False"
   ]
  },
  {
   "cell_type": "code",
   "execution_count": 144,
   "metadata": {},
   "outputs": [],
   "source": [
    "def pizza(name,size , flavor ,*toppings):\n",
    "    availible = [\"Jalapeno\",\"Extra Cheese\",\"Olives\",\"Extra Spice\",\"Onion\"]\n",
    "    print(\"Name: \")\n",
    "    print(\"Size of Pizza is: \"+size)\n",
    "    print(\"Flavor of Pizza is: \"+flavor)\n",
    "    print(\"Toppings are: \")\n",
    "    for availble in toppings:\n",
    "        print(toppings)\n",
    "    \n",
    "    "
   ]
  },
  {
   "cell_type": "code",
   "execution_count": 145,
   "metadata": {},
   "outputs": [
    {
     "name": "stdout",
     "output_type": "stream",
     "text": [
      "Name: \n",
      "Size of Pizza is: 21\n",
      "Flavor of Pizza is: Spicy\n",
      "Toppings are: \n",
      "('Olives', 'kar')\n",
      "('Olives', 'kar')\n"
     ]
    }
   ],
   "source": [
    "pizza(\"Hamza\",\"21\",\"Spicy\",\"Olives\",\"kar\")"
   ]
  },
  {
   "cell_type": "markdown",
   "metadata": {},
   "source": [
    "# Classes\n",
    "#attributes variables\n",
    "    #behaviours function"
   ]
  },
  {
   "cell_type": "code",
   "execution_count": 1,
   "metadata": {},
   "outputs": [],
   "source": [
    "class patient():\n",
    "    def __init__(self,pid,pname,disease,age,gender):\n",
    "        self.patientid = pid\n",
    "        self.patientname = pname\n",
    "        self.patientdisease = disease\n",
    "        self.patientage = age\n",
    "        self.patientgender = gender"
   ]
  },
  {
   "cell_type": "code",
   "execution_count": 2,
   "metadata": {},
   "outputs": [],
   "source": [
    "p1 = patient(111,\"Gabbar\",\"TB\",34,\"Male\")"
   ]
  },
  {
   "cell_type": "code",
   "execution_count": 3,
   "metadata": {},
   "outputs": [],
   "source": [
    "p2 = patient(113,\"Samba\",\"Wounded\",45,\"Male\")"
   ]
  },
  {
   "cell_type": "code",
   "execution_count": 7,
   "metadata": {},
   "outputs": [
    {
     "data": {
      "text/plain": [
       "34"
      ]
     },
     "execution_count": 7,
     "metadata": {},
     "output_type": "execute_result"
    }
   ],
   "source": [
    "p1.patientage"
   ]
  },
  {
   "cell_type": "code",
   "execution_count": 159,
   "metadata": {},
   "outputs": [
    {
     "data": {
      "text/plain": [
       "45"
      ]
     },
     "execution_count": 159,
     "metadata": {},
     "output_type": "execute_result"
    }
   ],
   "source": [
    "p2.patientage"
   ]
  },
  {
   "cell_type": "code",
   "execution_count": 166,
   "metadata": {},
   "outputs": [],
   "source": [
    "class aic():\n",
    "    def __init__(self,name,shift,sem,gender,rollnum):\n",
    "        self.name = name\n",
    "        self.shift = shift\n",
    "        self.sem = sem\n",
    "        self.gender= gender\n",
    "        self.rollnum = rollnum"
   ]
  },
  {
   "cell_type": "code",
   "execution_count": 168,
   "metadata": {},
   "outputs": [],
   "source": [
    "s1 = aic(\"Hamza\",\"Morning\",\"1st\",\"Male\",2325)\n",
    "s2 = aic(\"Hammad\",\"Morning\",\"4th\",\"Male\",1115)\n",
    "s3 = aic(\"Maaz\",\"evening\",\"1st\",\"Male\",8825)\n",
    "s4 = aic(\"Ali\",\"Morning\",\"8th\",\"Male\",2025)"
   ]
  },
  {
   "cell_type": "code",
   "execution_count": null,
   "metadata": {},
   "outputs": [],
   "source": []
  },
  {
   "cell_type": "code",
   "execution_count": null,
   "metadata": {},
   "outputs": [],
   "source": []
  },
  {
   "cell_type": "code",
   "execution_count": null,
   "metadata": {},
   "outputs": [],
   "source": []
  }
 ],
 "metadata": {
  "kernelspec": {
   "display_name": "Python 3",
   "language": "python",
   "name": "python3"
  },
  "language_info": {
   "codemirror_mode": {
    "name": "ipython",
    "version": 3
   },
   "file_extension": ".py",
   "mimetype": "text/x-python",
   "name": "python",
   "nbconvert_exporter": "python",
   "pygments_lexer": "ipython3",
   "version": "3.7.3"
  }
 },
 "nbformat": 4,
 "nbformat_minor": 2
}
