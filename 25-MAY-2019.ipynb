{
 "cells": [
  {
   "cell_type": "code",
   "execution_count": 4,
   "metadata": {},
   "outputs": [
    {
     "name": "stdout",
     "output_type": "stream",
     "text": [
      "Hello\n",
      "Yes\n",
      "No\n"
     ]
    }
   ],
   "source": [
    "#Multiple ifs\n",
    "a=b=c=d=10\n",
    "if a==b:\n",
    "    print(\"Hello\")\n",
    "if b>=c:\n",
    "    print(\"Yes\")\n",
    "if c>=d:\n",
    "    print(\"No\")"
   ]
  },
  {
   "cell_type": "code",
   "execution_count": 5,
   "metadata": {},
   "outputs": [
    {
     "name": "stdout",
     "output_type": "stream",
     "text": [
      "Hello\n",
      "Yes\n",
      "No\n"
     ]
    }
   ],
   "source": [
    "#Nested Loop\n",
    "#In which we want all the conditions to be true\n",
    "a=b=c=d=10\n",
    "if a==b:\n",
    "    print(\"Hello\")\n",
    "    if b>=c:\n",
    "        print(\"Yes\")\n",
    "        if c>=d:\n",
    "            print(\"No\")"
   ]
  },
  {
   "cell_type": "code",
   "execution_count": 10,
   "metadata": {},
   "outputs": [
    {
     "name": "stdout",
     "output_type": "stream",
     "text": [
      "Do you have a valid CNIC:no\n",
      "You cannot cast your vote\n"
     ]
    }
   ],
   "source": [
    "cnic_status = input(\"Do you have a valid CNIC:\").lower()\n",
    "if cnic_status == \"yes\":\n",
    "    print(\"Come Inside\")\n",
    "    name_in_list = input(\"Is your name is in voter list?\").lower()\n",
    "    if name_in_list == \"yes\":\n",
    "        print(\"You can cast your vote\")\n",
    "    else:\n",
    "        print(\"You cannot cast vote\")\n",
    "else:\n",
    "    print(\"You cannot cast your vote\")\n",
    "    "
   ]
  },
  {
   "cell_type": "code",
   "execution_count": 16,
   "metadata": {},
   "outputs": [
    {
     "name": "stdout",
     "output_type": "stream",
     "text": [
      "Do you have a valid CNIC:yes\n",
      "Is your name is in voter list?yea\n",
      "You cannot cast your vote\n"
     ]
    }
   ],
   "source": [
    "cnic_status = input(\"Do you have a valid CNIC:\").lower()\n",
    "if cnic_status == \"yes\":\n",
    "    name_in_list = input(\"Is your name is in voter list?\").lower()\n",
    "\n",
    "if ((cnic_status == \"yes\") and (name_in_list == \"yes\")):\n",
    "    print(\"Cast your vote\")\n",
    "else:\n",
    "    print(\"You cannot cast your vote\")"
   ]
  },
  {
   "cell_type": "code",
   "execution_count": 13,
   "metadata": {},
   "outputs": [
    {
     "name": "stdout",
     "output_type": "stream",
     "text": [
      "Enter your marks29\n",
      "Sorry! you are fail\n"
     ]
    }
   ],
   "source": [
    "marks = int(input(\"Enter your marks\"))\n",
    "\n",
    "if marks >= 90:\n",
    "        grade = \"A*\"\n",
    "elif marks >= 80:\n",
    "        grade = \"A\"\n",
    "elif marks >= 70:\n",
    "        grade = \"B\"\n",
    "elif marks >= 60:\n",
    "        grade = \"C\"\n",
    "elif marks >= 50:\n",
    "        grade = \"D\"\n",
    "elif marks >= 40:\n",
    "        grade = \"E\"\n",
    "elif marks >30 and marks <40 :\n",
    "        grade = \"Contact to your teacher\"      \n",
    "else:\n",
    "    grade =\"Sorry! you are fail\"\n",
    "\n",
    "if len(grade) > 2:\n",
    "    print(grade)\n",
    "else:\n",
    "    print(\"Your grade is \"+grade)\n",
    "        "
   ]
  },
  {
   "cell_type": "code",
   "execution_count": 8,
   "metadata": {},
   "outputs": [
    {
     "ename": "SyntaxError",
     "evalue": "invalid syntax (<ipython-input-8-ab42c7105d11>, line 1)",
     "output_type": "error",
     "traceback": [
      "\u001b[1;36m  File \u001b[1;32m\"<ipython-input-8-ab42c7105d11>\"\u001b[1;36m, line \u001b[1;32m1\u001b[0m\n\u001b[1;33m    IO=ctrl + /(forward slash)\u001b[0m\n\u001b[1;37m              ^\u001b[0m\n\u001b[1;31mSyntaxError\u001b[0m\u001b[1;31m:\u001b[0m invalid syntax\n"
     ]
    }
   ],
   "source": [
    "ctrl + /(forward slash) \n",
    "#comment\n",
    "#print(\"Hello\")\n",
    "#print(\"Hello\")\n",
    "#print(\"Hello\")\n",
    "'''What is the date today'''\n",
    "'''What is the date today'''\n",
    "'''What is the date today'''\n",
    "'''SDSDFFD\n",
    "SDS\n",
    "DS\n",
    "S\n",
    "'''\n",
    "\n"
   ]
  },
  {
   "cell_type": "code",
   "execution_count": 6,
   "metadata": {},
   "outputs": [
    {
     "name": "stdout",
     "output_type": "stream",
     "text": [
      "Enter a characters\n",
      "entered character \"s\" is a consonant\n"
     ]
    }
   ],
   "source": [
    "char = input(\"Enter a character\")\n",
    "\n",
    "if char == \"a\" or char ==\"e\" or char ==\"i\" or char ==\"o\" or char==\"u\":\n",
    "    print(\"entered charachter \\\"\"+char+\"\\\" is a vowel\")\n",
    "else:\n",
    "    print(\"entered character \\\"\"+char+\"\\\" is a consonant\")"
   ]
  },
  {
   "cell_type": "code",
   "execution_count": 41,
   "metadata": {},
   "outputs": [
    {
     "data": {
      "text/plain": [
       "7"
      ]
     },
     "execution_count": 41,
     "metadata": {},
     "output_type": "execute_result"
    }
   ],
   "source": [
    "#LIST\n",
    "\n",
    "alist = [\"Asad\",\"Saad\",\"Umer\",\"Ali\",\"Hamza\",\"Ijlal\",\"Kashan\"]\n",
    "len(alist)"
   ]
  },
  {
   "cell_type": "code",
   "execution_count": 42,
   "metadata": {},
   "outputs": [
    {
     "data": {
      "text/plain": [
       "False"
      ]
     },
     "execution_count": 42,
     "metadata": {},
     "output_type": "execute_result"
    }
   ],
   "source": [
    "#list can hold multiple data types together\n",
    "list2 = [\"apple\",1234,False,123.5]\n",
    "list2[2]"
   ]
  },
  {
   "cell_type": "code",
   "execution_count": 43,
   "metadata": {},
   "outputs": [
    {
     "data": {
      "text/plain": [
       "list"
      ]
     },
     "execution_count": 43,
     "metadata": {},
     "output_type": "execute_result"
    }
   ],
   "source": [
    "type(list2)\n"
   ]
  },
  {
   "cell_type": "code",
   "execution_count": 44,
   "metadata": {},
   "outputs": [],
   "source": [
    "#update the list\n",
    "list2[0] = \"Oranges\""
   ]
  },
  {
   "cell_type": "code",
   "execution_count": 45,
   "metadata": {},
   "outputs": [],
   "source": [
    "del list2[0]"
   ]
  },
  {
   "cell_type": "code",
   "execution_count": 46,
   "metadata": {},
   "outputs": [],
   "source": [
    "#add the value but at the end\n",
    "list2.append(109900)\n"
   ]
  },
  {
   "cell_type": "code",
   "execution_count": 48,
   "metadata": {},
   "outputs": [],
   "source": [
    "#add the value at the desired position\n",
    "list2.insert(2,\"hala\")\n"
   ]
  },
  {
   "cell_type": "code",
   "execution_count": 49,
   "metadata": {},
   "outputs": [
    {
     "data": {
      "text/plain": [
       "[1234, False, 'hala', 123.5, 109900]"
      ]
     },
     "execution_count": 49,
     "metadata": {},
     "output_type": "execute_result"
    }
   ],
   "source": [
    "list2"
   ]
  }
 ],
 "metadata": {
  "kernelspec": {
   "display_name": "Python 3",
   "language": "python",
   "name": "python3"
  },
  "language_info": {
   "codemirror_mode": {
    "name": "ipython",
    "version": 3
   },
   "file_extension": ".py",
   "mimetype": "text/x-python",
   "name": "python",
   "nbconvert_exporter": "python",
   "pygments_lexer": "ipython3",
   "version": "3.7.3"
  }
 },
 "nbformat": 4,
 "nbformat_minor": 2
}
