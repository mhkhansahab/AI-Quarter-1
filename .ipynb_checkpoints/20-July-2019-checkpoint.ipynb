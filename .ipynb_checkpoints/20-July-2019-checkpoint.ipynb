{
 "cells": [
  {
   "cell_type": "markdown",
   "metadata": {},
   "source": [
    "# CSV Files\n",
    "'''Comma Separated Values Files'''"
   ]
  },
  {
   "cell_type": "code",
   "execution_count": 12,
   "metadata": {},
   "outputs": [],
   "source": [
    "# first method of importing module\n",
    "# csv = module\n",
    "import csv"
   ]
  },
  {
   "cell_type": "code",
   "execution_count": 10,
   "metadata": {
    "scrolled": true
   },
   "outputs": [
    {
     "name": "stdout",
     "output_type": "stream",
     "text": [
      "['Year', ' Event', ' Winner']\n",
      "['1995', ' Best-Kept Lawn', ' None']\n",
      "['1999', ' Gobstone', ' Welch National']\n",
      "['2006', ' World Cup', ' Burkina Faso']\n"
     ]
    }
   ],
   "source": [
    "with open(\"abc.csv\") as f:\n",
    "    x = csv.reader(f)\n",
    "    for i in x:\n",
    "        print(i)"
   ]
  },
  {
   "cell_type": "code",
   "execution_count": 11,
   "metadata": {},
   "outputs": [
    {
     "name": "stdout",
     "output_type": "stream",
     "text": [
      "['Year', ' Event', ' Winner', '1995', ' Best-Kept Lawn', ' None', '1999', ' Gobstone', ' Welch National', '2006', ' World Cup', ' Burkina Faso']\n"
     ]
    }
   ],
   "source": [
    "with open(\"abc.csv\") as f:\n",
    "    x = csv.reader(f)\n",
    "    data = []\n",
    "    for i in x:\n",
    "        data += i\n",
    "        \n",
    "    print(data)"
   ]
  },
  {
   "cell_type": "code",
   "execution_count": 12,
   "metadata": {},
   "outputs": [],
   "source": [
    "with open(\"xyz.csv\", \"w\", newline = \"\") as f:\n",
    "    data_handler = csv.writer(f, delimiter = \",\")\n",
    "    data_handler.writerow([\"1998\", \"Kept Lawn\", \"None\"])\n",
    "    data_handler.writerow([\"1999\", \"Wilson\", \"Welch National\"])\n",
    "    data_handler.writerow([\"2012\", \"Coffee Cup\", \"Brrazil\"])"
   ]
  },
  {
   "cell_type": "code",
   "execution_count": 13,
   "metadata": {},
   "outputs": [],
   "source": [
    "with open(\"xyz.csv\", \"a\", newline = \"\") as f:\n",
    "    data_handler = csv.writer(f, delimiter = \",\")\n",
    "    data_handler.writerow([\"1998\", \"Kept Lawn\", \"None\"])\n",
    "    data_handler.writerow([\"1999\", \"Wilson\", \"Welch National\"])\n",
    "    data_handler.writerow([\"2012\", \"Coffee Cup\", \"Brrazil\"])"
   ]
  },
  {
   "cell_type": "code",
   "execution_count": 1,
   "metadata": {},
   "outputs": [
    {
     "ename": "SyntaxError",
     "evalue": "invalid syntax (<ipython-input-1-27cadf2a7714>, line 11)",
     "output_type": "error",
     "traceback": [
      "\u001b[1;36m  File \u001b[1;32m\"<ipython-input-1-27cadf2a7714>\"\u001b[1;36m, line \u001b[1;32m11\u001b[0m\n\u001b[1;33m    else:\u001b[0m\n\u001b[1;37m       ^\u001b[0m\n\u001b[1;31mSyntaxError\u001b[0m\u001b[1;31m:\u001b[0m invalid syntax\n"
     ]
    }
   ],
   "source": [
    "print(\"Welcome \")\n",
    "a_1 = input(\"Want to cast a vote?\\nPress Y for \\\"yes\\\" or Q for \\\"quit\\\": \")\n",
    "a_1 = a_1.upper()\n",
    "while a_1 == \"Y\":\n",
    "    nic = int(input(\"Enter your NIC Number: \"))\n",
    "    with open(\"xyz.csv\") as f:\n",
    "        x = csv.reader(f)\n",
    "        for nic in x:\n",
    "            print(\"Congrats your name is present\\n You  can cast your vote.\")\n",
    "            break\n",
    "        else:\n",
    "            print(\"Sorry\")"
   ]
  },
  {
   "cell_type": "markdown",
   "metadata": {},
   "source": [
    "# JSON"
   ]
  },
  {
   "cell_type": "code",
   "execution_count": 2,
   "metadata": {},
   "outputs": [],
   "source": [
    "import json"
   ]
  },
  {
   "cell_type": "code",
   "execution_count": 3,
   "metadata": {},
   "outputs": [],
   "source": [
    "alphabet_letters = [\"a\", \"b\", \"c\"]\n",
    "with open(\"alphabet_list.json\", \"w\") as f:\n",
    "    json.dump(alphabet_letters, f)"
   ]
  },
  {
   "cell_type": "code",
   "execution_count": 4,
   "metadata": {},
   "outputs": [
    {
     "name": "stdout",
     "output_type": "stream",
     "text": [
      "['a', 'b', 'c']\n",
      "a\n",
      "b\n",
      "c\n"
     ]
    }
   ],
   "source": [
    "with open(\"alphabet_list.json\") as f:\n",
    "    x = json.load(f)\n",
    "    print(x)\n",
    "    for i in x:\n",
    "        print(i)"
   ]
  },
  {
   "cell_type": "code",
   "execution_count": 5,
   "metadata": {},
   "outputs": [],
   "source": [
    "dict = {\"name\": \"hamza\", \"roll no\": \"123\", \"class\": \"5\", \"NIC\": \"546658\"}"
   ]
  },
  {
   "cell_type": "code",
   "execution_count": 6,
   "metadata": {},
   "outputs": [],
   "source": [
    "with open(\"dict.json\", \"w\") as f:\n",
    "    json.dump(dict, f) #dump store the value in json file"
   ]
  },
  {
   "cell_type": "code",
   "execution_count": 11,
   "metadata": {},
   "outputs": [
    {
     "name": "stdout",
     "output_type": "stream",
     "text": [
      "{'name': 'hamza', 'roll no': '123', 'class': '5', 'NIC': '546658'}\n",
      "name hamza\n",
      "roll no 123\n",
      "class 5\n",
      "NIC 546658\n"
     ]
    }
   ],
   "source": [
    "with open(\"dict.json\") as f:\n",
    "    x = json.load(f) #load call the value in json file\n",
    "    print(x)\n",
    "    for i,k in x.items():\n",
    "        print(i,k)"
   ]
  },
  {
   "cell_type": "code",
   "execution_count": null,
   "metadata": {},
   "outputs": [],
   "source": [
    "nest_dict ={0: {\"name\": ,\"age\": ,\"nationality\": ,},1: {\"name\": ,\"age\": ,\"nationality\": ,},}\n",
    "p_1 = nest_dict[0]\n",
    "p_1[\"name\"] = input(\"Enter Name: \")\n",
    "p_1[\"age\"] = input(\"Enter Age: \")\n",
    "p_1[\"nationality\"] = input(\"Enter Nationality: \")\n",
    "\n",
    "p_2 = nest_dict[1]\n",
    "p_2[\"name\"] = input(\"Enter Name: \")\n",
    "p_2[\"age\"] = input(\"Enter Age: \")\n",
    "p_2[\"nationality\"] = input(\"Enter Nationality: \")\n"
   ]
  }
 ],
 "metadata": {
  "kernelspec": {
   "display_name": "Python 3",
   "language": "python",
   "name": "python3"
  }
 },
 "nbformat": 4,
 "nbformat_minor": 2
}
