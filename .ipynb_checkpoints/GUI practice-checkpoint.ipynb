{
 "cells": [
  {
   "cell_type": "code",
   "execution_count": 40,
   "metadata": {},
   "outputs": [],
   "source": [
    "#Button Create\n",
    "import tkinter as tk\n",
    "m = tk.Tk()\n",
    "m.title(\"My First GUI\")\n",
    "b1 = tk.Button(m, text = \"Close\",font = \"calibiri\", width = 25, command = m.destroy, activebackground = \"blue\", activeforeground = \"black\", bg = \"grey\")\n",
    "b1.grid()\n",
    "m.mainloop()\n"
   ]
  },
  {
   "cell_type": "code",
   "execution_count": 52,
   "metadata": {},
   "outputs": [],
   "source": [
    "#Create Canvas and handling its dimensions\n",
    "import tkinter as tk\n",
    "w = tk.Tk()\n",
    "can = tk.Canvas(w, width=100, height=200) \n",
    "can.pack()   \n",
    "mainloop() "
   ]
  },
  {
   "cell_type": "code",
   "execution_count": 64,
   "metadata": {},
   "outputs": [],
   "source": [
    "#Creat CheckButton\n",
    "import tkinter as tk\n",
    "m = tk.Tk()\n",
    "cb1 = tk.Checkbutton(m, text = \"Male\")\n",
    "cb1.pack()\n",
    "cb2 = tk.Checkbutton(m, text = \"Female\")\n",
    "cb2.pack()\n",
    "mainloop()"
   ]
  },
  {
   "cell_type": "code",
   "execution_count": 68,
   "metadata": {},
   "outputs": [],
   "source": [
    "#taking User Input\n",
    "import tkinter as tk\n",
    "m = tk.Tk()\n",
    "label1 = tk.Label(m, text = \"First Name\").grid(row = 0)\n",
    "label2 = tk.Label(m, text = \"Last Name\").grid(row = 1)\n",
    "e1 = tk.Entry(m).grid(row = 0, column = 1)\n",
    "e2 = tk.Entry(m).grid(row = 1, column = 1)\n",
    "mainloop()"
   ]
  },
  {
   "cell_type": "code",
   "execution_count": null,
   "metadata": {},
   "outputs": [],
   "source": []
  },
  {
   "cell_type": "code",
   "execution_count": null,
   "metadata": {},
   "outputs": [],
   "source": []
  },
  {
   "cell_type": "code",
   "execution_count": null,
   "metadata": {},
   "outputs": [],
   "source": []
  }
 ],
 "metadata": {
  "kernelspec": {
   "display_name": "Python 3",
   "language": "python",
   "name": "python3"
  },
  "language_info": {
   "codemirror_mode": {
    "name": "ipython",
    "version": 3
   },
   "file_extension": ".py",
   "mimetype": "text/x-python",
   "name": "python",
   "nbconvert_exporter": "python",
   "pygments_lexer": "ipython3",
   "version": "3.7.3"
  }
 },
 "nbformat": 4,
 "nbformat_minor": 2
}
