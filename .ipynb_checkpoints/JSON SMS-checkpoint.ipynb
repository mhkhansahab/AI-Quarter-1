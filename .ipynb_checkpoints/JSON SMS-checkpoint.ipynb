{
 "cells": [
  {
   "cell_type": "code",
   "execution_count": 40,
   "metadata": {},
   "outputs": [],
   "source": [
    "import os.path\n",
    "location = \"info.json\"\n",
    "l = os.path.exists(location)\n",
    "no_of_courses = [None] * 5\n",
    "information = {}\n",
    "sample = {\"name\": \"\", \"father_name\": \"\", \"class\": \"\", \"roll_no\": \"\", \"courses\": no_of_courses ,}"
   ]
  },
  {
   "cell_type": "code",
   "execution_count": 48,
   "metadata": {},
   "outputs": [
    {
     "name": "stdout",
     "output_type": "stream",
     "text": [
      "\n",
      "\n",
      "\t\t\t\t\t\tMENU \n",
      "\n",
      "\t\t\t\t1 - Add Record\n",
      "\t\t\t\t2 - Update Record\n",
      "\t\t\t\t3 - Delete Record\n",
      "\t\t\t\t4 - Search\n",
      "Choose an option 1 - 4  : \n",
      "4\n",
      "Enter Student ID: \n",
      "0\n"
     ]
    },
    {
     "ename": "JSONDecodeError",
     "evalue": "Extra data: line 1 column 132 (char 131)",
     "output_type": "error",
     "traceback": [
      "\u001b[1;31m---------------------------------------------------------------------------\u001b[0m",
      "\u001b[1;31mJSONDecodeError\u001b[0m                           Traceback (most recent call last)",
      "\u001b[1;32m<ipython-input-48-df7db1df80ec>\u001b[0m in \u001b[0;36m<module>\u001b[1;34m\u001b[0m\n\u001b[0;32m     85\u001b[0m         \u001b[1;32mimport\u001b[0m \u001b[0mjson\u001b[0m\u001b[1;33m\u001b[0m\u001b[1;33m\u001b[0m\u001b[0m\n\u001b[0;32m     86\u001b[0m         \u001b[1;32mwith\u001b[0m \u001b[0mopen\u001b[0m\u001b[1;33m(\u001b[0m\u001b[1;34m\"info.json\"\u001b[0m\u001b[1;33m)\u001b[0m \u001b[1;32mas\u001b[0m \u001b[0mf\u001b[0m\u001b[1;33m:\u001b[0m\u001b[1;33m\u001b[0m\u001b[1;33m\u001b[0m\u001b[0m\n\u001b[1;32m---> 87\u001b[1;33m             \u001b[0mi\u001b[0m \u001b[1;33m=\u001b[0m \u001b[0mjson\u001b[0m\u001b[1;33m.\u001b[0m\u001b[0mload\u001b[0m\u001b[1;33m(\u001b[0m\u001b[0mf\u001b[0m\u001b[1;33m)\u001b[0m\u001b[1;33m\u001b[0m\u001b[1;33m\u001b[0m\u001b[0m\n\u001b[0m\u001b[0;32m     88\u001b[0m             \u001b[0mi\u001b[0m \u001b[1;33m=\u001b[0m \u001b[0minformation\u001b[0m\u001b[1;33m[\u001b[0m\u001b[0mid\u001b[0m\u001b[1;33m]\u001b[0m\u001b[1;33m\u001b[0m\u001b[1;33m\u001b[0m\u001b[0m\n\u001b[0;32m     89\u001b[0m             \u001b[0msample\u001b[0m \u001b[1;33m=\u001b[0m \u001b[0mi\u001b[0m\u001b[1;33m[\u001b[0m\u001b[1;36m0\u001b[0m\u001b[1;33m]\u001b[0m\u001b[1;33m\u001b[0m\u001b[1;33m\u001b[0m\u001b[0m\n",
      "\u001b[1;32m~\\Anaconda3\\lib\\json\\__init__.py\u001b[0m in \u001b[0;36mload\u001b[1;34m(fp, cls, object_hook, parse_float, parse_int, parse_constant, object_pairs_hook, **kw)\u001b[0m\n\u001b[0;32m    294\u001b[0m         \u001b[0mcls\u001b[0m\u001b[1;33m=\u001b[0m\u001b[0mcls\u001b[0m\u001b[1;33m,\u001b[0m \u001b[0mobject_hook\u001b[0m\u001b[1;33m=\u001b[0m\u001b[0mobject_hook\u001b[0m\u001b[1;33m,\u001b[0m\u001b[1;33m\u001b[0m\u001b[1;33m\u001b[0m\u001b[0m\n\u001b[0;32m    295\u001b[0m         \u001b[0mparse_float\u001b[0m\u001b[1;33m=\u001b[0m\u001b[0mparse_float\u001b[0m\u001b[1;33m,\u001b[0m \u001b[0mparse_int\u001b[0m\u001b[1;33m=\u001b[0m\u001b[0mparse_int\u001b[0m\u001b[1;33m,\u001b[0m\u001b[1;33m\u001b[0m\u001b[1;33m\u001b[0m\u001b[0m\n\u001b[1;32m--> 296\u001b[1;33m         parse_constant=parse_constant, object_pairs_hook=object_pairs_hook, **kw)\n\u001b[0m\u001b[0;32m    297\u001b[0m \u001b[1;33m\u001b[0m\u001b[0m\n\u001b[0;32m    298\u001b[0m \u001b[1;33m\u001b[0m\u001b[0m\n",
      "\u001b[1;32m~\\Anaconda3\\lib\\json\\__init__.py\u001b[0m in \u001b[0;36mloads\u001b[1;34m(s, encoding, cls, object_hook, parse_float, parse_int, parse_constant, object_pairs_hook, **kw)\u001b[0m\n\u001b[0;32m    346\u001b[0m             \u001b[0mparse_int\u001b[0m \u001b[1;32mis\u001b[0m \u001b[1;32mNone\u001b[0m \u001b[1;32mand\u001b[0m \u001b[0mparse_float\u001b[0m \u001b[1;32mis\u001b[0m \u001b[1;32mNone\u001b[0m \u001b[1;32mand\u001b[0m\u001b[1;33m\u001b[0m\u001b[1;33m\u001b[0m\u001b[0m\n\u001b[0;32m    347\u001b[0m             parse_constant is None and object_pairs_hook is None and not kw):\n\u001b[1;32m--> 348\u001b[1;33m         \u001b[1;32mreturn\u001b[0m \u001b[0m_default_decoder\u001b[0m\u001b[1;33m.\u001b[0m\u001b[0mdecode\u001b[0m\u001b[1;33m(\u001b[0m\u001b[0ms\u001b[0m\u001b[1;33m)\u001b[0m\u001b[1;33m\u001b[0m\u001b[1;33m\u001b[0m\u001b[0m\n\u001b[0m\u001b[0;32m    349\u001b[0m     \u001b[1;32mif\u001b[0m \u001b[0mcls\u001b[0m \u001b[1;32mis\u001b[0m \u001b[1;32mNone\u001b[0m\u001b[1;33m:\u001b[0m\u001b[1;33m\u001b[0m\u001b[1;33m\u001b[0m\u001b[0m\n\u001b[0;32m    350\u001b[0m         \u001b[0mcls\u001b[0m \u001b[1;33m=\u001b[0m \u001b[0mJSONDecoder\u001b[0m\u001b[1;33m\u001b[0m\u001b[1;33m\u001b[0m\u001b[0m\n",
      "\u001b[1;32m~\\Anaconda3\\lib\\json\\decoder.py\u001b[0m in \u001b[0;36mdecode\u001b[1;34m(self, s, _w)\u001b[0m\n\u001b[0;32m    338\u001b[0m         \u001b[0mend\u001b[0m \u001b[1;33m=\u001b[0m \u001b[0m_w\u001b[0m\u001b[1;33m(\u001b[0m\u001b[0ms\u001b[0m\u001b[1;33m,\u001b[0m \u001b[0mend\u001b[0m\u001b[1;33m)\u001b[0m\u001b[1;33m.\u001b[0m\u001b[0mend\u001b[0m\u001b[1;33m(\u001b[0m\u001b[1;33m)\u001b[0m\u001b[1;33m\u001b[0m\u001b[1;33m\u001b[0m\u001b[0m\n\u001b[0;32m    339\u001b[0m         \u001b[1;32mif\u001b[0m \u001b[0mend\u001b[0m \u001b[1;33m!=\u001b[0m \u001b[0mlen\u001b[0m\u001b[1;33m(\u001b[0m\u001b[0ms\u001b[0m\u001b[1;33m)\u001b[0m\u001b[1;33m:\u001b[0m\u001b[1;33m\u001b[0m\u001b[1;33m\u001b[0m\u001b[0m\n\u001b[1;32m--> 340\u001b[1;33m             \u001b[1;32mraise\u001b[0m \u001b[0mJSONDecodeError\u001b[0m\u001b[1;33m(\u001b[0m\u001b[1;34m\"Extra data\"\u001b[0m\u001b[1;33m,\u001b[0m \u001b[0ms\u001b[0m\u001b[1;33m,\u001b[0m \u001b[0mend\u001b[0m\u001b[1;33m)\u001b[0m\u001b[1;33m\u001b[0m\u001b[1;33m\u001b[0m\u001b[0m\n\u001b[0m\u001b[0;32m    341\u001b[0m         \u001b[1;32mreturn\u001b[0m \u001b[0mobj\u001b[0m\u001b[1;33m\u001b[0m\u001b[1;33m\u001b[0m\u001b[0m\n\u001b[0;32m    342\u001b[0m \u001b[1;33m\u001b[0m\u001b[0m\n",
      "\u001b[1;31mJSONDecodeError\u001b[0m: Extra data: line 1 column 132 (char 131)"
     ]
    }
   ],
   "source": [
    "# print(\"\\t\\t\\t*****Welcome To Student Management System*****\")\n",
    "print(\"\\n\\n\\t\\t\\t\\t\\t\\tMENU \")\n",
    "print(\"\\n\\t\\t\\t\\t1 - Add Record\")\n",
    "print(\"\\t\\t\\t\\t2 - Update Record\")\n",
    "print(\"\\t\\t\\t\\t3 - Delete Record\")\n",
    "print(\"\\t\\t\\t\\t4 - Search\")\n",
    "user_input = int(input(\"Choose an option 1 - 4  : \\n\"))\n",
    "\n",
    "if user_input == 1:\n",
    "    z = len(information)\n",
    "    print(\"Your Student ID is : {}\\n\".format(z))\n",
    "    information[z] = [sample]\n",
    "    sample[\"name\"] = input(\"Enter Name: \")\n",
    "    sample[\"father_name\"] = input(\"Enter Father Name: \")\n",
    "    sample[\"class\"] = input(\"Enter Class: \")\n",
    "    sample[\"roll_no\"] = input(\"Enter Roll Number: \")\n",
    "    j = 4\n",
    "    while j >= 0:\n",
    "        course = input(\"Enter Course: \")\n",
    "        x = sample[\"courses\"]\n",
    "        if course in x:\n",
    "            print(\"\\nYou have already mentioned this course\\n\")\n",
    "            q = j + 1\n",
    "            print(\"Enter {0} more courses\".format(q))\n",
    "        else:\n",
    "            no_of_courses[j] = course\n",
    "            j -= 1\n",
    "    sample[\"courses\"] = no_of_courses\n",
    "\n",
    "    if l == True:\n",
    "        import json\n",
    "        with open(\"info.json\", \"a\") as f:\n",
    "            json.dump(sample, f)\n",
    "    else:\n",
    "        import json\n",
    "        with open(\"info.json\", \"w\") as f:\n",
    "            json.dump(sample, f)\n",
    "\n",
    "if user_input == 2:\n",
    "    \n",
    "    if l == True:\n",
    "        import json\n",
    "        with open(\"info.json\") as f:\n",
    "            i = json.load(f)\n",
    "        \n",
    "    id = int(input(\"Enter Student ID: \"))\n",
    "    i = information[id]\n",
    "    i[\"name\"] = input(\"Enter Name: \")\n",
    "    i[\"father_name\"] = input(\"Enter Father Name: \")\n",
    "    i[\"class\"] = input(\"Enter Class: \")\n",
    "    print(\"You cannot update your Roll Number and Courses.\")\n",
    "    \n",
    "    if l == True:\n",
    "        import json\n",
    "        with open(\"info.json\", \"r+\") as f:\n",
    "            json.dump(i, f)\n",
    "    else:\n",
    "        import json\n",
    "        with open(\"info.json\", \"w+\") as f:\n",
    "            json.dump(i, f)\n",
    "\n",
    "if user_input == 3:\n",
    "    \n",
    "    if l == True:\n",
    "        import json\n",
    "        with open(\"info.json\") as f:\n",
    "            i = json.load(f)\n",
    "    \n",
    "    id = int(input(\"Enter Student ID: \"))\n",
    "    i[id] = sample\n",
    "    \n",
    "    if l == True:\n",
    "        import json\n",
    "        with open(\"info.json\", \"r+\") as f:\n",
    "            json.dump(i, f)\n",
    "    else:\n",
    "        import json\n",
    "        with open(\"info.json\", \"w+\") as f:\n",
    "            json.dump(i, f)\n",
    "        \n",
    "if user_input == 4:\n",
    "    id = int(input(\"Enter Student ID: \\n\"))\n",
    "    \n",
    "    if l == True:\n",
    "        import json\n",
    "        with open(\"info.json\") as f:\n",
    "            i = json.load(f)\n",
    "            i = information[id]\n",
    "            sample = i[0]\n",
    "    name = sample[\"name\"]\n",
    "    f_name = sample[\"father_name\"]\n",
    "    standard = sample[\"class\"]\n",
    "    roll_no = sample[\"roll_no\"]\n",
    "    courses = sample[\"courses\"]\n",
    "    print(\"Name: {0}\".format(name))\n",
    "    print(\"Father Name: {0}\".format(f_name))\n",
    "    print(\"Roll Number: {0}\".format(roll_no))\n",
    "    print(\"Class: {0}\".format(standard))\n",
    "    print(\"Courses: \")\n",
    "    for j in courses:\n",
    "        print(j)\n",
    "no_of_courses = [None] * 5"
   ]
  },
  {
   "cell_type": "code",
   "execution_count": 44,
   "metadata": {},
   "outputs": [
    {
     "data": {
      "text/plain": [
       "1"
      ]
     },
     "execution_count": 44,
     "metadata": {},
     "output_type": "execute_result"
    }
   ],
   "source": []
  },
  {
   "cell_type": "code",
   "execution_count": 32,
   "metadata": {},
   "outputs": [
    {
     "data": {
      "text/plain": [
       "[None, None, None, None, None]"
      ]
     },
     "execution_count": 32,
     "metadata": {},
     "output_type": "execute_result"
    }
   ],
   "source": [
    "no_of_courses"
   ]
  }
 ],
 "metadata": {
  "kernelspec": {
   "display_name": "Python 3",
   "language": "python",
   "name": "python3"
  }
 },
 "nbformat": 4,
 "nbformat_minor": 2
}
